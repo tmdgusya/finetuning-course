{
 "cells": [
  {
   "cell_type": "markdown",
   "metadata": {},
   "source": [
    "# Sentence Transformer 란?\n",
    "\n",
    "우리가 입력값으로 **입력한 정보(텍스트 혹은 이미지)를 고정된 크기의 벡터로 표현**해주는것(임베딩)"
   ]
  }
 ],
 "metadata": {
  "language_info": {
   "name": "python"
  }
 },
 "nbformat": 4,
 "nbformat_minor": 2
}
